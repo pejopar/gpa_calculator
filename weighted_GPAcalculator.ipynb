{
 "cells": [
  {
   "cell_type": "code",
   "execution_count": 2,
   "id": "af2dd214-2f87-49c3-8de0-8246c2014311",
   "metadata": {
    "tags": []
   },
   "outputs": [
    {
     "data": {
      "application/vnd.jupyter.widget-view+json": {
       "model_id": "c7366b6598a64c1f87dab80f2e448b30",
       "version_major": 2,
       "version_minor": 0
      },
      "text/plain": [
       "Output()"
      ]
     },
     "metadata": {},
     "output_type": "display_data"
    },
    {
     "data": {
      "application/vnd.jupyter.widget-view+json": {
       "model_id": "c2c6129cc9fc425d958a07e991dc101f",
       "version_major": 2,
       "version_minor": 0
      },
      "text/plain": [
       "VBox(children=(Label(value='Enter Course Details:', layout=Layout(margin='10px 0')), HBox(children=(Label(valu…"
      ]
     },
     "metadata": {},
     "output_type": "display_data"
    },
    {
     "data": {
      "application/vnd.jupyter.widget-view+json": {
       "model_id": "c1b32bb67cdd4c8f8aee055b4bde43ff",
       "version_major": 2,
       "version_minor": 0
      },
      "text/plain": [
       "Output()"
      ]
     },
     "metadata": {},
     "output_type": "display_data"
    },
    {
     "data": {
      "application/vnd.jupyter.widget-view+json": {
       "model_id": "b238771c971d4eb7a0660cab0db0bd45",
       "version_major": 2,
       "version_minor": 0
      },
      "text/plain": [
       "Output()"
      ]
     },
     "metadata": {},
     "output_type": "display_data"
    }
   ],
   "source": [
    "import ipywidgets as widgets\n",
    "from IPython.display import display, clear_output\n",
    "from functools import partial\n",
    "\n",
    "def calculate_weighted_gpa():\n",
    "    courses = []\n",
    "    total_credits = 0\n",
    "    total_weighted_score = 0\n",
    "    output = widgets.Output()\n",
    "    course_list_output = widgets.Output()\n",
    "    summary_output = widgets.Output()\n",
    "    \n",
    "    def update_summary():\n",
    "        \"\"\" Updates the total GPA and total credits displayed at the top. \"\"\"\n",
    "        with summary_output:\n",
    "            clear_output()\n",
    "            if total_credits == 0:\n",
    "                display(widgets.HTML(\"<h2>Total Credits: 0 | Weighted GPA: N/A</h2>\"))\n",
    "            else:\n",
    "                weighted_gpa = total_weighted_score / total_credits\n",
    "                display(widgets.HTML(f\"<h2>Total Credits: {total_credits:.2f} | Weighted GPA: {weighted_gpa:.2f}\"))\n",
    "    \n",
    "    def add_course(_):\n",
    "        nonlocal total_credits, total_weighted_score\n",
    "        name = course_name.value.strip()\n",
    "        \n",
    "        try:\n",
    "            credits = float(course_credits.value)\n",
    "            grade = float(course_grade.value)\n",
    "        except ValueError:\n",
    "            with output:\n",
    "                clear_output()\n",
    "                print(\"Invalid input. Please enter numeric values for credits and grade.\")\n",
    "            return\n",
    "        \n",
    "        if not name:\n",
    "            with output:\n",
    "                clear_output()\n",
    "                print(\"Please enter a course name.\")\n",
    "            return\n",
    "        \n",
    "        courses.append([name, credits, grade])\n",
    "        total_credits += credits\n",
    "        total_weighted_score += grade * credits\n",
    "        \n",
    "        with output:\n",
    "            clear_output()\n",
    "            print(f\"Course '{name}' added successfully!\")\n",
    "        \n",
    "        update_summary()\n",
    "        display_courses()\n",
    "    \n",
    "    def display_courses():\n",
    "        with course_list_output:\n",
    "            clear_output()\n",
    "            if not courses:\n",
    "                print(\"No courses entered yet.\")\n",
    "                return\n",
    "            \n",
    "            print(\"\\nCourses Entered:\")\n",
    "            for idx, (name, credits, grade) in enumerate(courses, 1):\n",
    "                edit_button = widgets.Button(description=\"Edit\", button_style='info', layout=widgets.Layout(width='60px'))\n",
    "                remove_button = widgets.Button(description=\"Remove\", button_style='danger', layout=widgets.Layout(width='80px'))\n",
    "                \n",
    "                edit_button.on_click(partial(edit_course, index=idx))\n",
    "                remove_button.on_click(partial(remove_course, index=idx))\n",
    "                \n",
    "                display(widgets.HBox([\n",
    "                    widgets.Label(f\"{idx}. {name}\", layout=widgets.Layout(width='200px')),\n",
    "                    widgets.Label(f\"Credits: {credits}\", layout=widgets.Layout(width='80px')),\n",
    "                    widgets.Label(f\"Grade: {grade}\", layout=widgets.Layout(width='80px')),\n",
    "                    edit_button, remove_button\n",
    "                ]))\n",
    "    \n",
    "    def edit_course(_, index):\n",
    "        nonlocal total_credits, total_weighted_score\n",
    "\n",
    "        def update_course(_):\n",
    "            nonlocal total_weighted_score, total_credits\n",
    "            try:\n",
    "                new_credits = float(edit_credits_input.value)\n",
    "                new_grade = float(edit_grade_input.value)\n",
    "\n",
    "                # Remove old values\n",
    "                total_weighted_score -= courses[index - 1][2] * courses[index - 1][1]\n",
    "                total_credits -= courses[index - 1][1]\n",
    "\n",
    "                # Update with new values\n",
    "                courses[index - 1][1] = new_credits\n",
    "                courses[index - 1][2] = new_grade\n",
    "\n",
    "                total_weighted_score += new_grade * new_credits\n",
    "                total_credits += new_credits\n",
    "\n",
    "                with output:\n",
    "                    clear_output()\n",
    "                    print(f\"Updated '{courses[index - 1][0]}' successfully!\")\n",
    "                \n",
    "                update_summary()\n",
    "                display_courses()\n",
    "            except ValueError:\n",
    "                with output:\n",
    "                    clear_output()\n",
    "                    print(\"Invalid input. Please enter numeric values.\")\n",
    "\n",
    "        edit_credits_input = widgets.FloatText(value=courses[index - 1][1], layout=widgets.Layout(width='100px'))\n",
    "        edit_grade_input = widgets.FloatText(value=courses[index - 1][2], layout=widgets.Layout(width='100px'))\n",
    "        update_button = widgets.Button(description='Update', button_style='primary')\n",
    "        update_button.on_click(update_course)\n",
    "        \n",
    "        with output:\n",
    "            clear_output()\n",
    "            print(f\"Editing {courses[index - 1][0]}:\")\n",
    "            display(widgets.HBox([widgets.Label(\"New Credits:\", layout=widgets.Layout(width='100px')), edit_credits_input]))\n",
    "            display(widgets.HBox([widgets.Label(\"New Grade:\", layout=widgets.Layout(width='100px')), edit_grade_input]))\n",
    "            display(update_button)\n",
    "    \n",
    "    def remove_course(_, index):\n",
    "        nonlocal total_credits, total_weighted_score\n",
    "        \n",
    "        removed_course = courses.pop(index - 1)\n",
    "        total_credits -= removed_course[1]\n",
    "        total_weighted_score -= removed_course[2] * removed_course[1]\n",
    "        \n",
    "        with output:\n",
    "            clear_output()\n",
    "            print(f\"Removed '{removed_course[0]}' successfully!\")\n",
    "        \n",
    "        update_summary()\n",
    "        display_courses()\n",
    "    \n",
    "    # Input Fields with consistent width\n",
    "    input_width = '100px'\n",
    "    \n",
    "    course_name = widgets.Text(layout=widgets.Layout(width='200px'))\n",
    "    course_credits = widgets.FloatText(layout=widgets.Layout(width=input_width))\n",
    "    course_grade = widgets.FloatText(layout=widgets.Layout(width=input_width))\n",
    "    \n",
    "    add_button = widgets.Button(description='Add Course', button_style='success')\n",
    "    add_button.on_click(add_course)\n",
    "\n",
    "    # Display UI\n",
    "    display(summary_output)  # Pin summary to the top\n",
    "    update_summary()  # Initial display\n",
    "    \n",
    "    display(widgets.VBox([\n",
    "        widgets.Label('Enter Course Details:', layout=widgets.Layout(margin='10px 0')),\n",
    "        widgets.HBox([widgets.Label(\"Course:\", layout=widgets.Layout(width='80px')), course_name]),\n",
    "        widgets.HBox([widgets.Label(\"Credits:\", layout=widgets.Layout(width='80px')), course_credits]),\n",
    "        widgets.HBox([widgets.Label(\"Grade:\", layout=widgets.Layout(width='80px')), course_grade]),\n",
    "        add_button\n",
    "    ]))\n",
    "\n",
    "    display(course_list_output)\n",
    "    display(output)\n",
    "\n",
    "# Run the interactive GPA calculator\n",
    "calculate_weighted_gpa()"
   ]
  }
 ],
 "metadata": {
  "kernelspec": {
   "display_name": "Python 3",
   "language": "python",
   "name": "python3"
  },
  "language_info": {
   "codemirror_mode": {
    "name": "ipython",
    "version": 3
   },
   "file_extension": ".py",
   "mimetype": "text/x-python",
   "name": "python",
   "nbconvert_exporter": "python",
   "pygments_lexer": "ipython3",
   "version": "3.10.12"
  }
 },
 "nbformat": 4,
 "nbformat_minor": 5
}
